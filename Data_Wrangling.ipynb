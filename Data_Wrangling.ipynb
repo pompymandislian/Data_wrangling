{
 "cells": [
  {
   "cell_type": "code",
   "execution_count": 1,
   "id": "fa3c3683",
   "metadata": {},
   "outputs": [],
   "source": [
    "import pandas as pd\n",
    "from plot_outlier import Visualization_outlier # check distribution\n",
    "import numpy as np\n",
    "import matplotlib.pyplot as plt"
   ]
  },
  {
   "cell_type": "markdown",
   "id": "3fb5f594",
   "metadata": {},
   "source": [
    "Step Cleaning:\n",
    "\n",
    "1. Load data\n",
    "2. Join data tokped march april and shoope march april\n",
    "3. check shape data\n",
    "4. Drop Columns is not using and check shape again\n",
    "4. check dtypes and change if dtypes is not true\n",
    "5. Check missing nulls and distribution data,for numeric if skew using median and normal using mean\n",
    "6. Fillna missing nulls\n",
    "7. Sanichek process\n",
    "8. Make new columns tokopedia and shoope to differentiate e_commerce\n",
    "9. Check incosinstensi data and then rename or change values\n",
    "10. Last, Join data tokopedia and shoope\n",
    "11. Save data to excel and then analysis to tablaue"
   ]
  },
  {
   "cell_type": "code",
   "execution_count": 3,
   "id": "77af6048",
   "metadata": {},
   "outputs": [],
   "source": [
    "# load data\n",
    "df_tokped_mar = pd.read_excel('D:/BOOTCAMP/test_kerja/March_Order.xlsx')\n",
    "df_tokped_apr = pd.read_excel('D:/BOOTCAMP/test_kerja/April_Order.xlsx')\n",
    "df_shoope_mar = pd.read_excel('D:/BOOTCAMP/test_kerja/shopee/March_Order.xlsx')\n",
    "df_shoope_apr = pd.read_excel('D:/BOOTCAMP/test_kerja/shopee/April_Order.xlsx')"
   ]
  },
  {
   "cell_type": "markdown",
   "id": "56300fcd",
   "metadata": {},
   "source": [
    "# Cleaning Data Tokped"
   ]
  },
  {
   "cell_type": "code",
   "execution_count": 4,
   "id": "05fcc3ea",
   "metadata": {},
   "outputs": [
    {
     "name": "stderr",
     "output_type": "stream",
     "text": [
      "C:\\Users\\HP Notebook\\AppData\\Local\\Temp\\ipykernel_8924\\1635105826.py:2: FutureWarning: The frame.append method is deprecated and will be removed from pandas in a future version. Use pandas.concat instead.\n",
      "  join_data_tokped = df_tokped_mar.append(df_tokped_apr, ignore_index=True)\n"
     ]
    }
   ],
   "source": [
    "# join data\n",
    "join_data_tokped = df_tokped_mar.append(df_tokped_apr, ignore_index=True)"
   ]
  },
  {
   "cell_type": "code",
   "execution_count": 5,
   "id": "ce32d12d",
   "metadata": {},
   "outputs": [
    {
     "data": {
      "text/plain": [
       "(507, 25)"
      ]
     },
     "execution_count": 5,
     "metadata": {},
     "output_type": "execute_result"
    }
   ],
   "source": [
    "join_data_tokped.shape"
   ]
  },
  {
   "cell_type": "code",
   "execution_count": 6,
   "id": "82435eea",
   "metadata": {},
   "outputs": [],
   "source": [
    "# drop column is not used\n",
    "merged_tokped = join_data_tokped.drop(columns=['Order ID', 'Order ID', 'Invoice', 'Product ID','Stock Keeping Unit (SKU)',\n",
    "                                               'Notes','AWB', 'Warehouse Origin','user_id','Order Status','Insurance (Rp.)',\n",
    "                                               'Shipping Price + fee (Rp.)','Campaign Name','Jenis Layanan','Bebas Ongkir',\n",
    "                                               'Count','Price (Rp.)'])"
   ]
  },
  {
   "cell_type": "code",
   "execution_count": 7,
   "id": "5c9bd1c1",
   "metadata": {},
   "outputs": [
    {
     "data": {
      "text/plain": [
       "(507, 9)"
      ]
     },
     "execution_count": 7,
     "metadata": {},
     "output_type": "execute_result"
    }
   ],
   "source": [
    "# sanichek\n",
    "merged_tokped.shape"
   ]
  },
  {
   "cell_type": "code",
   "execution_count": 8,
   "id": "4a4a9cfd",
   "metadata": {},
   "outputs": [
    {
     "data": {
      "text/plain": [
       "Payment Date                object\n",
       "Product Name                object\n",
       "Quantity                     int64\n",
       "Discount Amount (Rp.)        int64\n",
       "Subsidi Amount (Rp.)         int64\n",
       "Courier                     object\n",
       "Total Shipping Fee (Rp.)     int64\n",
       "Total Amount (Rp.)           int64\n",
       "city                        object\n",
       "dtype: object"
      ]
     },
     "execution_count": 8,
     "metadata": {},
     "output_type": "execute_result"
    }
   ],
   "source": [
    "# check dtype\n",
    "merged_tokped.dtypes"
   ]
  },
  {
   "cell_type": "code",
   "execution_count": 9,
   "id": "b174667d",
   "metadata": {},
   "outputs": [],
   "source": [
    "# change dtype object to datetime\n",
    "merged_tokped['Payment Date'] = pd.to_datetime(merged_tokped['Payment Date'])"
   ]
  },
  {
   "cell_type": "code",
   "execution_count": 10,
   "id": "64892b74",
   "metadata": {},
   "outputs": [
    {
     "data": {
      "text/plain": [
       "Payment Date                datetime64[ns]\n",
       "Product Name                        object\n",
       "Quantity                             int64\n",
       "Discount Amount (Rp.)                int64\n",
       "Subsidi Amount (Rp.)                 int64\n",
       "Courier                             object\n",
       "Total Shipping Fee (Rp.)             int64\n",
       "Total Amount (Rp.)                   int64\n",
       "city                                object\n",
       "dtype: object"
      ]
     },
     "execution_count": 10,
     "metadata": {},
     "output_type": "execute_result"
    }
   ],
   "source": [
    "# sanichek dtypes\n",
    "merged_tokped.dtypes"
   ]
  },
  {
   "cell_type": "code",
   "execution_count": 11,
   "id": "2a77ba02",
   "metadata": {},
   "outputs": [
    {
     "name": "stdout",
     "output_type": "stream",
     "text": [
      "Daftar bulan yang tersedia: \n",
      "2021-01\n",
      "2021-02\n",
      "2021-03\n",
      "2021-04\n",
      "2021-05\n",
      "2021-06\n",
      "2021-07\n",
      "2021-08\n",
      "2021-09\n",
      "2021-10\n",
      "2021-11\n",
      "2021-12\n"
     ]
    }
   ],
   "source": [
    "# Check month \n",
    "daftar_bulan = sorted(merged_tokped[\"Payment Date\"].dt.strftime('%Y-%m').unique())\n",
    "\n",
    "# Tampilkan daftar bulan\n",
    "print(\"Daftar bulan yang tersedia: \")\n",
    "for bulan in daftar_bulan:\n",
    "    print(bulan)"
   ]
  },
  {
   "cell_type": "code",
   "execution_count": 12,
   "id": "f12f3fcb",
   "metadata": {},
   "outputs": [],
   "source": [
    "# because analysis just march and april order apples to apples then drop other months \n",
    "# >>the value will affect the missing nulls\n",
    "\n",
    "selected_months = [\"03\", \"04\"]\n",
    "merged_tokped = merged_tokped[merged_tokped[\"Payment Date\"].dt.strftime('%m').isin(selected_months)]"
   ]
  },
  {
   "cell_type": "code",
   "execution_count": 13,
   "id": "cc848d3c",
   "metadata": {},
   "outputs": [
    {
     "name": "stdout",
     "output_type": "stream",
     "text": [
      "Daftar bulan yang tersedia: \n",
      "2021-03\n",
      "2021-04\n"
     ]
    }
   ],
   "source": [
    "# SaniCheck month \n",
    "daftar_bulan = sorted(merged_tokped[\"Payment Date\"].dt.strftime('%Y-%m').unique())\n",
    "\n",
    "# Tampilkan daftar bulan\n",
    "print(\"Daftar bulan yang tersedia: \")\n",
    "for bulan in daftar_bulan:\n",
    "    print(bulan)"
   ]
  },
  {
   "cell_type": "code",
   "execution_count": 14,
   "id": "f3267b86",
   "metadata": {},
   "outputs": [
    {
     "data": {
      "text/plain": [
       "Payment Date                0\n",
       "Product Name                0\n",
       "Quantity                    0\n",
       "Discount Amount (Rp.)       0\n",
       "Subsidi Amount (Rp.)        0\n",
       "Courier                     0\n",
       "Total Shipping Fee (Rp.)    0\n",
       "Total Amount (Rp.)          0\n",
       "city                        3\n",
       "dtype: int64"
      ]
     },
     "execution_count": 14,
     "metadata": {},
     "output_type": "execute_result"
    }
   ],
   "source": [
    "# check missing nulls\n",
    "merged_tokped.isnull().sum()"
   ]
  },
  {
   "cell_type": "code",
   "execution_count": 15,
   "id": "0b8549ed",
   "metadata": {},
   "outputs": [
    {
     "name": "stderr",
     "output_type": "stream",
     "text": [
      "C:\\Users\\HP Notebook\\anaconda3\\lib\\site-packages\\seaborn\\distributions.py:316: UserWarning: Dataset has 0 variance; skipping density estimate. Pass `warn_singular=False` to disable this warning.\n",
      "  warnings.warn(msg, UserWarning)\n"
     ]
    },
    {
     "data": {
      "image/png": "[encoded data removed]",
      "text/plain": [
       "<Figure size 800x2000 with 5 Axes>"
      ]
     },
     "metadata": {},
     "output_type": "display_data"
    }
   ],
   "source": [
    "# check distribution data\n",
    "dist_vis = Visualization_outlier(merged_tokped)\n",
    "merged_tokped_vis =dist_vis.kdeplot()"
   ]
  },
  {
   "cell_type": "code",
   "execution_count": 16,
   "id": "3722c7f1",
   "metadata": {},
   "outputs": [],
   "source": [
    "# split numeric and category\n",
    "category_cols_tokped = merged_tokped.select_dtypes(include=['object'])\n",
    "numeric_cols_tokped = merged_tokped.select_dtypes(include=['number'])\n",
    "selected_columns_numeric = merged_tokped.loc[:, ['Quantity']]\n",
    "selected_date = merged_tokped.select_dtypes(include=['datetime64[ns]'])"
   ]
  },
  {
   "cell_type": "code",
   "execution_count": 17,
   "id": "f60de6e4",
   "metadata": {},
   "outputs": [],
   "source": [
    "# drop column \n",
    "numeric_cols_tokped_1 = numeric_cols_tokped.drop(columns=['Quantity'])"
   ]
  },
  {
   "cell_type": "code",
   "execution_count": 18,
   "id": "168190bf",
   "metadata": {},
   "outputs": [],
   "source": [
    "# fillna category\n",
    "category_cols_tokped.fillna('unknown', inplace=True)\n",
    "\n",
    "# fillna data dtype dist skew >> using median\n",
    "median_col = numeric_cols_tokped_1.median() \n",
    "\n",
    "# fillna data dtype dist normal >> using mean\n",
    "mean_col = selected_columns_numeric.mean()\n",
    "\n",
    "numeric_cols_tokped_1.fillna(median_col, inplace=True)\n",
    "selected_columns_numeric.fillna(mean_col, inplace=True)"
   ]
  },
  {
   "cell_type": "code",
   "execution_count": 19,
   "id": "50f63593",
   "metadata": {},
   "outputs": [],
   "source": [
    "# concat columns\n",
    "data_clean_tokped = pd.concat([category_cols_tokped, numeric_cols_tokped_1, selected_columns_numeric,selected_date], axis=1)"
   ]
  },
  {
   "cell_type": "code",
   "execution_count": 20,
   "id": "e95fc694",
   "metadata": {},
   "outputs": [
    {
     "data": {
      "text/plain": [
       "Product Name                0\n",
       "Courier                     0\n",
       "city                        0\n",
       "Discount Amount (Rp.)       0\n",
       "Subsidi Amount (Rp.)        0\n",
       "Total Shipping Fee (Rp.)    0\n",
       "Total Amount (Rp.)          0\n",
       "Quantity                    0\n",
       "Payment Date                0\n",
       "dtype: int64"
      ]
     },
     "execution_count": 20,
     "metadata": {},
     "output_type": "execute_result"
    }
   ],
   "source": [
    "# check nulls\n",
    "data_clean_tokped.isnull().sum()"
   ]
  },
  {
   "cell_type": "code",
   "execution_count": 21,
   "id": "5ff3f0d6",
   "metadata": {},
   "outputs": [
    {
     "data": {
      "text/plain": [
       "(328, 9)"
      ]
     },
     "execution_count": 21,
     "metadata": {},
     "output_type": "execute_result"
    }
   ],
   "source": [
    "# chek shape\n",
    "data_clean_tokped.shape"
   ]
  },
  {
   "cell_type": "code",
   "execution_count": 22,
   "id": "d5b0ea09",
   "metadata": {},
   "outputs": [
    {
     "data": {
      "text/plain": [
       "0"
      ]
     },
     "execution_count": 22,
     "metadata": {},
     "output_type": "execute_result"
    }
   ],
   "source": [
    "# check duplicate\n",
    "data_clean_tokped.duplicated().sum()"
   ]
  },
  {
   "cell_type": "code",
   "execution_count": 23,
   "id": "8e3ca649",
   "metadata": {},
   "outputs": [],
   "source": [
    "# add column e_commerce\n",
    "data_clean_tokped['e_commerce'] = 'Tokopedia'"
   ]
  },
  {
   "cell_type": "markdown",
   "id": "73b30632",
   "metadata": {},
   "source": [
    "### Inconsistensi data"
   ]
  },
  {
   "cell_type": "code",
   "execution_count": 24,
   "id": "535b6923",
   "metadata": {},
   "outputs": [
    {
     "name": "stderr",
     "output_type": "stream",
     "text": [
      "C:\\Users\\HP Notebook\\AppData\\Local\\Temp\\ipykernel_8924\\994633194.py:3: SettingWithCopyWarning: \n",
      "A value is trying to be set on a copy of a slice from a DataFrame\n",
      "\n",
      "See the caveats in the documentation: https://pandas.pydata.org/pandas-docs/stable/user_guide/indexing.html#returning-a-view-versus-a-copy\n",
      "  data_clean_tokped[\"Category_product\"][data_clean_tokped['Product Name'].str.contains(\"Tank Top\")] = \"Tank Top\"\n",
      "C:\\Users\\HP Notebook\\AppData\\Local\\Temp\\ipykernel_8924\\994633194.py:4: SettingWithCopyWarning: \n",
      "A value is trying to be set on a copy of a slice from a DataFrame\n",
      "\n",
      "See the caveats in the documentation: https://pandas.pydata.org/pandas-docs/stable/user_guide/indexing.html#returning-a-view-versus-a-copy\n",
      "  data_clean_tokped[\"Category_product\"][data_clean_tokped['Product Name'].str.contains(\"Celana\")] = \"pants\"\n",
      "C:\\Users\\HP Notebook\\AppData\\Local\\Temp\\ipykernel_8924\\994633194.py:5: SettingWithCopyWarning: \n",
      "A value is trying to be set on a copy of a slice from a DataFrame\n",
      "\n",
      "See the caveats in the documentation: https://pandas.pydata.org/pandas-docs/stable/user_guide/indexing.html#returning-a-view-versus-a-copy\n",
      "  data_clean_tokped[\"Category_product\"][data_clean_tokped['Product Name'].str.contains(\"Legging\")] = \"Legging \"\n",
      "C:\\Users\\HP Notebook\\AppData\\Local\\Temp\\ipykernel_8924\\994633194.py:6: SettingWithCopyWarning: \n",
      "A value is trying to be set on a copy of a slice from a DataFrame\n",
      "\n",
      "See the caveats in the documentation: https://pandas.pydata.org/pandas-docs/stable/user_guide/indexing.html#returning-a-view-versus-a-copy\n",
      "  data_clean_tokped[\"Category_product\"][data_clean_tokped['Product Name'].str.contains(\"Celana Olahraga\")] = \"Legging\"\n",
      "C:\\Users\\HP Notebook\\AppData\\Local\\Temp\\ipykernel_8924\\994633194.py:7: SettingWithCopyWarning: \n",
      "A value is trying to be set on a copy of a slice from a DataFrame\n",
      "\n",
      "See the caveats in the documentation: https://pandas.pydata.org/pandas-docs/stable/user_guide/indexing.html#returning-a-view-versus-a-copy\n",
      "  data_clean_tokped[\"Category_product\"][data_clean_tokped['Product Name'].str.contains(\"bra\")] = \"sports bra\"\n",
      "C:\\Users\\HP Notebook\\AppData\\Local\\Temp\\ipykernel_8924\\994633194.py:8: SettingWithCopyWarning: \n",
      "A value is trying to be set on a copy of a slice from a DataFrame\n",
      "\n",
      "See the caveats in the documentation: https://pandas.pydata.org/pandas-docs/stable/user_guide/indexing.html#returning-a-view-versus-a-copy\n",
      "  data_clean_tokped[\"Category_product\"][data_clean_tokped['Product Name'].str.contains(\"Bra\")] = \"sports bra\"\n",
      "C:\\Users\\HP Notebook\\AppData\\Local\\Temp\\ipykernel_8924\\994633194.py:9: SettingWithCopyWarning: \n",
      "A value is trying to be set on a copy of a slice from a DataFrame\n",
      "\n",
      "See the caveats in the documentation: https://pandas.pydata.org/pandas-docs/stable/user_guide/indexing.html#returning-a-view-versus-a-copy\n",
      "  data_clean_tokped[\"Category_product\"][data_clean_tokped['Product Name'].str.contains(\"Long\")] = \"long sleeve\"\n",
      "C:\\Users\\HP Notebook\\AppData\\Local\\Temp\\ipykernel_8924\\994633194.py:10: SettingWithCopyWarning: \n",
      "A value is trying to be set on a copy of a slice from a DataFrame\n",
      "\n",
      "See the caveats in the documentation: https://pandas.pydata.org/pandas-docs/stable/user_guide/indexing.html#returning-a-view-versus-a-copy\n",
      "  data_clean_tokped[\"Category_product\"][data_clean_tokped['Product Name'].str.contains(\"Short\")] = \"tshirt\"\n",
      "C:\\Users\\HP Notebook\\AppData\\Local\\Temp\\ipykernel_8924\\994633194.py:11: SettingWithCopyWarning: \n",
      "A value is trying to be set on a copy of a slice from a DataFrame\n",
      "\n",
      "See the caveats in the documentation: https://pandas.pydata.org/pandas-docs/stable/user_guide/indexing.html#returning-a-view-versus-a-copy\n",
      "  data_clean_tokped[\"Category_product\"][data_clean_tokped['Product Name'].str.contains(\"Headband\")] = \"accessories\"\n",
      "C:\\Users\\HP Notebook\\AppData\\Local\\Temp\\ipykernel_8924\\994633194.py:12: SettingWithCopyWarning: \n",
      "A value is trying to be set on a copy of a slice from a DataFrame\n",
      "\n",
      "See the caveats in the documentation: https://pandas.pydata.org/pandas-docs/stable/user_guide/indexing.html#returning-a-view-versus-a-copy\n",
      "  data_clean_tokped[\"Category_product\"][data_clean_tokped['Product Name'].str.contains(\"Jacket\")] = \"Jacket\"\n"
     ]
    }
   ],
   "source": [
    "# change name Product Name to category product\n",
    "data_clean_tokped[\"Category_product\"] = None\n",
    "data_clean_tokped[\"Category_product\"][data_clean_tokped['Product Name'].str.contains(\"Tank Top\")] = \"Tank Top\"\n",
    "data_clean_tokped[\"Category_product\"][data_clean_tokped['Product Name'].str.contains(\"Celana\")] = \"pants\"\n",
    "data_clean_tokped[\"Category_product\"][data_clean_tokped['Product Name'].str.contains(\"Legging\")] = \"Legging \"\n",
    "data_clean_tokped[\"Category_product\"][data_clean_tokped['Product Name'].str.contains(\"Celana Olahraga\")] = \"Legging\"\n",
    "data_clean_tokped[\"Category_product\"][data_clean_tokped['Product Name'].str.contains(\"bra\")] = \"sports bra\"\n",
    "data_clean_tokped[\"Category_product\"][data_clean_tokped['Product Name'].str.contains(\"Bra\")] = \"sports bra\"\n",
    "data_clean_tokped[\"Category_product\"][data_clean_tokped['Product Name'].str.contains(\"Long\")] = \"long sleeve\"\n",
    "data_clean_tokped[\"Category_product\"][data_clean_tokped['Product Name'].str.contains(\"Short\")] = \"tshirt\"\n",
    "data_clean_tokped[\"Category_product\"][data_clean_tokped['Product Name'].str.contains(\"Headband\")] = \"accessories\"\n",
    "data_clean_tokped[\"Category_product\"][data_clean_tokped['Product Name'].str.contains(\"Jacket\")] = \"Jacket\""
   ]
  },
  {
   "cell_type": "code",
   "execution_count": 25,
   "id": "9e4d0904",
   "metadata": {},
   "outputs": [
    {
     "data": {
      "text/plain": [
       "0"
      ]
     },
     "execution_count": 25,
     "metadata": {},
     "output_type": "execute_result"
    }
   ],
   "source": [
    "# check missing nulls after rename inconsistensi data from category_product\n",
    "data_clean_tokped.Category_product.isnull().sum()"
   ]
  },
  {
   "cell_type": "code",
   "execution_count": 26,
   "id": "495a37ab",
   "metadata": {},
   "outputs": [],
   "source": [
    "# drop coloumns Product Name because change to category product\n",
    "data_clean_tokped = data_clean_tokped.drop(columns=['Product Name'])"
   ]
  },
  {
   "cell_type": "code",
   "execution_count": 27,
   "id": "d4c4cd7a",
   "metadata": {},
   "outputs": [
    {
     "data": {
      "text/html": [
       "<div>\n",
       "<style scoped>\n",
       "    .dataframe tbody tr th:only-of-type {\n",
       "        vertical-align: middle;\n",
       "    }\n",
       "\n",
       "    .dataframe tbody tr th {\n",
       "        vertical-align: top;\n",
       "    }\n",
       "\n",
       "    .dataframe thead th {\n",
       "        text-align: right;\n",
       "    }\n",
       "</style>\n",
       "<table border=\"1\" class=\"dataframe\">\n",
       "  <thead>\n",
       "    <tr style=\"text-align: right;\">\n",
       "      <th></th>\n",
       "      <th>Courier</th>\n",
       "      <th>city</th>\n",
       "      <th>Discount Amount (Rp.)</th>\n",
       "      <th>Subsidi Amount (Rp.)</th>\n",
       "      <th>Total Shipping Fee (Rp.)</th>\n",
       "      <th>Total Amount (Rp.)</th>\n",
       "      <th>Quantity</th>\n",
       "      <th>Payment Date</th>\n",
       "      <th>e_commerce</th>\n",
       "      <th>Category_product</th>\n",
       "    </tr>\n",
       "  </thead>\n",
       "  <tbody>\n",
       "    <tr>\n",
       "      <th>23</th>\n",
       "      <td>JNE(OKE)</td>\n",
       "      <td>Jakarta barat</td>\n",
       "      <td>0</td>\n",
       "      <td>0</td>\n",
       "      <td>6000</td>\n",
       "      <td>309500</td>\n",
       "      <td>1</td>\n",
       "      <td>2021-03-03 13:01:46</td>\n",
       "      <td>Tokopedia</td>\n",
       "      <td>sports bra</td>\n",
       "    </tr>\n",
       "    <tr>\n",
       "      <th>24</th>\n",
       "      <td>JNE(OKE)</td>\n",
       "      <td>Jakarta barat</td>\n",
       "      <td>0</td>\n",
       "      <td>0</td>\n",
       "      <td>6000</td>\n",
       "      <td>309500</td>\n",
       "      <td>1</td>\n",
       "      <td>2021-03-03 13:01:46</td>\n",
       "      <td>Tokopedia</td>\n",
       "      <td>Tank Top</td>\n",
       "    </tr>\n",
       "  </tbody>\n",
       "</table>\n",
       "</div>"
      ],
      "text/plain": [
       "     Courier           city  Discount Amount (Rp.)  Subsidi Amount (Rp.)  \\\n",
       "23  JNE(OKE)  Jakarta barat                      0                     0   \n",
       "24  JNE(OKE)  Jakarta barat                      0                     0   \n",
       "\n",
       "    Total Shipping Fee (Rp.)  Total Amount (Rp.)  Quantity  \\\n",
       "23                      6000              309500         1   \n",
       "24                      6000              309500         1   \n",
       "\n",
       "          Payment Date e_commerce Category_product  \n",
       "23 2021-03-03 13:01:46  Tokopedia       sports bra  \n",
       "24 2021-03-03 13:01:46  Tokopedia         Tank Top  "
      ]
     },
     "execution_count": 27,
     "metadata": {},
     "output_type": "execute_result"
    }
   ],
   "source": [
    "data_clean_tokped.head(2)"
   ]
  },
  {
   "cell_type": "markdown",
   "id": "8c3236b5",
   "metadata": {},
   "source": [
    "# Cleaning Data Shoope"
   ]
  },
  {
   "cell_type": "code",
   "execution_count": 28,
   "id": "619607fe",
   "metadata": {},
   "outputs": [
    {
     "name": "stderr",
     "output_type": "stream",
     "text": [
      "C:\\Users\\HP Notebook\\AppData\\Local\\Temp\\ipykernel_8924\\383263352.py:2: FutureWarning: The frame.append method is deprecated and will be removed from pandas in a future version. Use pandas.concat instead.\n",
      "  join_data_shoope = df_shoope_mar.append(df_shoope_apr, ignore_index=True)\n"
     ]
    }
   ],
   "source": [
    "# join data\n",
    "join_data_shoope = df_shoope_mar.append(df_shoope_apr, ignore_index=True)"
   ]
  },
  {
   "cell_type": "code",
   "execution_count": 29,
   "id": "acfc02da",
   "metadata": {},
   "outputs": [],
   "source": [
    "# drop column is not used\n",
    "merged_shoope = join_data_shoope.drop(columns=['No. Pesanan','Status Pesanan', 'Status Pembatalan/ Pengembalian'\n",
    "                                              ,'No. Resi', 'Antar ke counter/ pick-up','Paket Diskon (Diskon dari Shopee)'\n",
    "                                              ,'Catatan dari Pembeli', 'Catatan', 'user_id','SKU Induk','Nomor Referensi SKU',\n",
    "                                              'Pesanan Harus Dikirimkan Sebelum (Menghindari keterlambatan)', 'Waktu Pengiriman Diatur'\n",
    "                                              ,'Waktu Pesanan Dibuat','Ongkos Kirim Dibayar oleh Pembeli','Voucher Ditanggung Penjual'\n",
    "                                              ,'Voucher Ditanggung Shopee','Total Berat','Berat Produk','Paket Diskon (Diskon dari Penjual)'\n",
    "                                              ,'Cashback Koin','Diskon Dari Shopee','Diskon Kartu Kredit','Nama Variasi','Paket Diskon','Jumlah'\n",
    "                                              ,'Harga Awal','Harga Setelah Diskon','Total Harga Produk'])"
   ]
  },
  {
   "cell_type": "code",
   "execution_count": 30,
   "id": "fe7c97e7",
   "metadata": {},
   "outputs": [
    {
     "data": {
      "text/plain": [
       "(70, 10)"
      ]
     },
     "execution_count": 30,
     "metadata": {},
     "output_type": "execute_result"
    }
   ],
   "source": [
    "# sanichek\n",
    "merged_shoope.shape"
   ]
  },
  {
   "cell_type": "code",
   "execution_count": 31,
   "id": "0a8c0df5",
   "metadata": {},
   "outputs": [
    {
     "data": {
      "text/plain": [
       "Opsi Pengiriman               object\n",
       "Waktu Pembayaran Dilakukan    object\n",
       "Nama Produk                   object\n",
       "Total Diskon                  object\n",
       "Diskon Dari Penjual           object\n",
       "Jumlah Produk di Pesan         int64\n",
       "Potongan Koin Shopee           int64\n",
       "Total Pembayaran              object\n",
       "Perkiraan Ongkos Kirim        object\n",
       "city                          object\n",
       "dtype: object"
      ]
     },
     "execution_count": 31,
     "metadata": {},
     "output_type": "execute_result"
    }
   ],
   "source": [
    "# check dtype\n",
    "merged_shoope.dtypes"
   ]
  },
  {
   "cell_type": "code",
   "execution_count": 32,
   "id": "817b07e8",
   "metadata": {},
   "outputs": [],
   "source": [
    "# rename values\n",
    "merged_shoope['Total Pembayaran'] = merged_shoope['Total Pembayaran'].apply(lambda x : x.replace('Rp ',''))\n",
    "merged_shoope['Perkiraan Ongkos Kirim'] = merged_shoope['Perkiraan Ongkos Kirim'].apply(lambda x : x.replace('Rp ',''))\n",
    "merged_shoope['Total Diskon'] = merged_shoope['Total Diskon'].apply(lambda x : x.replace('Rp ',''))\n",
    "merged_shoope['Diskon Dari Penjual'] = merged_shoope['Diskon Dari Penjual'].apply(lambda x : x.replace('Rp ',''))\n",
    "\n",
    "# astype object to float\n",
    "merged_shoope['Total Pembayaran'] = merged_shoope['Total Pembayaran'].astype('float64')\n",
    "merged_shoope['Perkiraan Ongkos Kirim'] = merged_shoope['Perkiraan Ongkos Kirim'].astype('float64')\n",
    "merged_shoope['Total Diskon'] = merged_shoope['Total Diskon'].astype('float64')\n",
    "\n",
    "# astype object to datetime\n",
    "merged_shoope['Waktu Pembayaran Dilakukan'] = pd.to_datetime(merged_shoope['Waktu Pembayaran Dilakukan'])"
   ]
  },
  {
   "cell_type": "code",
   "execution_count": 33,
   "id": "c3a43bb7",
   "metadata": {
    "scrolled": true
   },
   "outputs": [
    {
     "data": {
      "text/plain": [
       "Opsi Pengiriman                       object\n",
       "Waktu Pembayaran Dilakukan    datetime64[ns]\n",
       "Nama Produk                           object\n",
       "Total Diskon                         float64\n",
       "Diskon Dari Penjual                   object\n",
       "Jumlah Produk di Pesan                 int64\n",
       "Potongan Koin Shopee                   int64\n",
       "Total Pembayaran                     float64\n",
       "Perkiraan Ongkos Kirim               float64\n",
       "city                                  object\n",
       "dtype: object"
      ]
     },
     "execution_count": 33,
     "metadata": {},
     "output_type": "execute_result"
    }
   ],
   "source": [
    "# check dtype\n",
    "merged_shoope.dtypes"
   ]
  },
  {
   "cell_type": "code",
   "execution_count": 34,
   "id": "e4c13a99",
   "metadata": {},
   "outputs": [],
   "source": [
    "# rename kolom \n",
    "merged_shoope.rename(columns={\"Waktu Pembayaran Dilakukan\": \"Payment Date\", 'Total Pembayaran' : 'Total Amount (Rp.)',\n",
    "                             'Jumlah Produk di Pesan' : 'Quantity', 'Perkiraan Ongkos Kirim' : 'Total Shipping Fee (Rp.)',\n",
    "                             'Opsi Pengiriman' : 'Courier','Total Diskon' : 'Discount Amount (Rp.)', 'Diskon Dari Penjual' : 'Subsidi Amount (Rp.)' }, inplace=True)"
   ]
  },
  {
   "cell_type": "code",
   "execution_count": 35,
   "id": "66bdd670",
   "metadata": {},
   "outputs": [
    {
     "name": "stdout",
     "output_type": "stream",
     "text": [
      "Daftar bulan yang tersedia: \n",
      "2021-03\n",
      "2021-04\n"
     ]
    }
   ],
   "source": [
    "# Check month \n",
    "daftar_bulan = sorted(merged_shoope[\"Payment Date\"].dt.strftime('%Y-%m').unique())\n",
    "\n",
    "# Tampilkan daftar bulan\n",
    "print(\"Daftar bulan yang tersedia: \")\n",
    "for bulan in daftar_bulan:\n",
    "    print(bulan)"
   ]
  },
  {
   "cell_type": "code",
   "execution_count": 36,
   "id": "70eaba73",
   "metadata": {},
   "outputs": [
    {
     "data": {
      "text/plain": [
       "Courier                     0\n",
       "Payment Date                0\n",
       "Nama Produk                 0\n",
       "Discount Amount (Rp.)       0\n",
       "Subsidi Amount (Rp.)        0\n",
       "Quantity                    0\n",
       "Potongan Koin Shopee        0\n",
       "Total Amount (Rp.)          0\n",
       "Total Shipping Fee (Rp.)    0\n",
       "city                        0\n",
       "dtype: int64"
      ]
     },
     "execution_count": 36,
     "metadata": {},
     "output_type": "execute_result"
    }
   ],
   "source": [
    "# check missing nulls\n",
    "merged_shoope.isnull().sum()"
   ]
  },
  {
   "cell_type": "code",
   "execution_count": 37,
   "id": "4570bb22",
   "metadata": {},
   "outputs": [
    {
     "data": {
      "text/plain": [
       "4"
      ]
     },
     "execution_count": 37,
     "metadata": {},
     "output_type": "execute_result"
    }
   ],
   "source": [
    "# check duplicate\n",
    "merged_shoope.duplicated().sum()"
   ]
  },
  {
   "cell_type": "code",
   "execution_count": 38,
   "id": "03968ce6",
   "metadata": {},
   "outputs": [],
   "source": [
    "# add column e_commerce\n",
    "merged_shoope['e_commerce'] = 'Shoope'"
   ]
  },
  {
   "cell_type": "markdown",
   "id": "d3960a13",
   "metadata": {},
   "source": [
    "### Inconsistensi Data"
   ]
  },
  {
   "cell_type": "code",
   "execution_count": 39,
   "id": "f3bcfa3b",
   "metadata": {},
   "outputs": [
    {
     "name": "stderr",
     "output_type": "stream",
     "text": [
      "C:\\Users\\HP Notebook\\AppData\\Local\\Temp\\ipykernel_8924\\1573203240.py:3: SettingWithCopyWarning: \n",
      "A value is trying to be set on a copy of a slice from a DataFrame\n",
      "\n",
      "See the caveats in the documentation: https://pandas.pydata.org/pandas-docs/stable/user_guide/indexing.html#returning-a-view-versus-a-copy\n",
      "  merged_shoope[\"Category_product\"][merged_shoope['Nama Produk'].str.contains(\"Tank Top\")] = \"Tank Top\"\n",
      "C:\\Users\\HP Notebook\\AppData\\Local\\Temp\\ipykernel_8924\\1573203240.py:4: SettingWithCopyWarning: \n",
      "A value is trying to be set on a copy of a slice from a DataFrame\n",
      "\n",
      "See the caveats in the documentation: https://pandas.pydata.org/pandas-docs/stable/user_guide/indexing.html#returning-a-view-versus-a-copy\n",
      "  merged_shoope[\"Category_product\"][merged_shoope['Nama Produk'].str.contains(\"Celana\")] = \"pants\"\n",
      "C:\\Users\\HP Notebook\\AppData\\Local\\Temp\\ipykernel_8924\\1573203240.py:5: SettingWithCopyWarning: \n",
      "A value is trying to be set on a copy of a slice from a DataFrame\n",
      "\n",
      "See the caveats in the documentation: https://pandas.pydata.org/pandas-docs/stable/user_guide/indexing.html#returning-a-view-versus-a-copy\n",
      "  merged_shoope[\"Category_product\"][merged_shoope['Nama Produk'].str.contains(\"Legging\")] = \"Legging \"\n",
      "C:\\Users\\HP Notebook\\AppData\\Local\\Temp\\ipykernel_8924\\1573203240.py:6: SettingWithCopyWarning: \n",
      "A value is trying to be set on a copy of a slice from a DataFrame\n",
      "\n",
      "See the caveats in the documentation: https://pandas.pydata.org/pandas-docs/stable/user_guide/indexing.html#returning-a-view-versus-a-copy\n",
      "  merged_shoope[\"Category_product\"][merged_shoope['Nama Produk'].str.contains(\"Celana Olahraga\")] = \"Legging\"\n",
      "C:\\Users\\HP Notebook\\AppData\\Local\\Temp\\ipykernel_8924\\1573203240.py:7: SettingWithCopyWarning: \n",
      "A value is trying to be set on a copy of a slice from a DataFrame\n",
      "\n",
      "See the caveats in the documentation: https://pandas.pydata.org/pandas-docs/stable/user_guide/indexing.html#returning-a-view-versus-a-copy\n",
      "  merged_shoope[\"Category_product\"][merged_shoope['Nama Produk'].str.contains(\"bra\")] = \"sports bra\"\n",
      "C:\\Users\\HP Notebook\\AppData\\Local\\Temp\\ipykernel_8924\\1573203240.py:8: SettingWithCopyWarning: \n",
      "A value is trying to be set on a copy of a slice from a DataFrame\n",
      "\n",
      "See the caveats in the documentation: https://pandas.pydata.org/pandas-docs/stable/user_guide/indexing.html#returning-a-view-versus-a-copy\n",
      "  merged_shoope[\"Category_product\"][merged_shoope['Nama Produk'].str.contains(\"Bra\")] = \"sports bra\"\n",
      "C:\\Users\\HP Notebook\\AppData\\Local\\Temp\\ipykernel_8924\\1573203240.py:9: SettingWithCopyWarning: \n",
      "A value is trying to be set on a copy of a slice from a DataFrame\n",
      "\n",
      "See the caveats in the documentation: https://pandas.pydata.org/pandas-docs/stable/user_guide/indexing.html#returning-a-view-versus-a-copy\n",
      "  merged_shoope[\"Category_product\"][merged_shoope['Nama Produk'].str.contains(\"Long\")] = \"long sleeve\"\n",
      "C:\\Users\\HP Notebook\\AppData\\Local\\Temp\\ipykernel_8924\\1573203240.py:10: SettingWithCopyWarning: \n",
      "A value is trying to be set on a copy of a slice from a DataFrame\n",
      "\n",
      "See the caveats in the documentation: https://pandas.pydata.org/pandas-docs/stable/user_guide/indexing.html#returning-a-view-versus-a-copy\n",
      "  merged_shoope[\"Category_product\"][merged_shoope['Nama Produk'].str.contains(\"Short\")] = \"tshirt\"\n",
      "C:\\Users\\HP Notebook\\AppData\\Local\\Temp\\ipykernel_8924\\1573203240.py:11: SettingWithCopyWarning: \n",
      "A value is trying to be set on a copy of a slice from a DataFrame\n",
      "\n",
      "See the caveats in the documentation: https://pandas.pydata.org/pandas-docs/stable/user_guide/indexing.html#returning-a-view-versus-a-copy\n",
      "  merged_shoope[\"Category_product\"][merged_shoope['Nama Produk'].str.contains(\"Headband\")] = \"accessories\"\n",
      "C:\\Users\\HP Notebook\\AppData\\Local\\Temp\\ipykernel_8924\\1573203240.py:12: SettingWithCopyWarning: \n",
      "A value is trying to be set on a copy of a slice from a DataFrame\n",
      "\n",
      "See the caveats in the documentation: https://pandas.pydata.org/pandas-docs/stable/user_guide/indexing.html#returning-a-view-versus-a-copy\n",
      "  merged_shoope[\"Category_product\"][merged_shoope['Nama Produk'].str.contains(\"Jacket\")] = \"Jacket\"\n"
     ]
    }
   ],
   "source": [
    "# change name Nama Produk to category product\n",
    "merged_shoope[\"Category_product\"] = None\n",
    "merged_shoope[\"Category_product\"][merged_shoope['Nama Produk'].str.contains(\"Tank Top\")] = \"Tank Top\"\n",
    "merged_shoope[\"Category_product\"][merged_shoope['Nama Produk'].str.contains(\"Celana\")] = \"pants\"\n",
    "merged_shoope[\"Category_product\"][merged_shoope['Nama Produk'].str.contains(\"Legging\")] = \"Legging \"\n",
    "merged_shoope[\"Category_product\"][merged_shoope['Nama Produk'].str.contains(\"Celana Olahraga\")] = \"Legging\"\n",
    "merged_shoope[\"Category_product\"][merged_shoope['Nama Produk'].str.contains(\"bra\")] = \"sports bra\"\n",
    "merged_shoope[\"Category_product\"][merged_shoope['Nama Produk'].str.contains(\"Bra\")] = \"sports bra\"\n",
    "merged_shoope[\"Category_product\"][merged_shoope['Nama Produk'].str.contains(\"Long\")] = \"long sleeve\"\n",
    "merged_shoope[\"Category_product\"][merged_shoope['Nama Produk'].str.contains(\"Short\")] = \"tshirt\"\n",
    "merged_shoope[\"Category_product\"][merged_shoope['Nama Produk'].str.contains(\"Headband\")] = \"accessories\"\n",
    "merged_shoope[\"Category_product\"][merged_shoope['Nama Produk'].str.contains(\"Jacket\")] = \"Jacket\""
   ]
  },
  {
   "cell_type": "code",
   "execution_count": 40,
   "id": "5cc7d9ea",
   "metadata": {},
   "outputs": [
    {
     "data": {
      "text/plain": [
       "0"
      ]
     },
     "execution_count": 40,
     "metadata": {},
     "output_type": "execute_result"
    }
   ],
   "source": [
    "# check missing nulls after rename inconsistensi data from category_product\n",
    "merged_shoope.Category_product.isnull().sum()"
   ]
  },
  {
   "cell_type": "code",
   "execution_count": 41,
   "id": "3ac2ae42",
   "metadata": {},
   "outputs": [],
   "source": [
    "# drop coloumns Product Name because change to category product\n",
    "merged_shoope = merged_shoope.drop(columns=['Nama Produk'])"
   ]
  },
  {
   "cell_type": "code",
   "execution_count": 42,
   "id": "5673728f",
   "metadata": {
    "scrolled": true
   },
   "outputs": [
    {
     "name": "stderr",
     "output_type": "stream",
     "text": [
      "C:\\Users\\HP Notebook\\AppData\\Local\\Temp\\ipykernel_8924\\2465355267.py:2: FutureWarning: The frame.append method is deprecated and will be removed from pandas in a future version. Use pandas.concat instead.\n",
      "  data_analisa = merged_shoope.append(data_clean_tokped, ignore_index=True)\n"
     ]
    }
   ],
   "source": [
    "# join data shoope and tokopedia\n",
    "data_analisa = merged_shoope.append(data_clean_tokped, ignore_index=True)"
   ]
  },
  {
   "cell_type": "code",
   "execution_count": 43,
   "id": "67c52c07",
   "metadata": {},
   "outputs": [
    {
     "data": {
      "text/plain": [
       "Courier                       0\n",
       "Payment Date                  0\n",
       "Discount Amount (Rp.)         0\n",
       "Subsidi Amount (Rp.)          0\n",
       "Quantity                      0\n",
       "Potongan Koin Shopee        328\n",
       "Total Amount (Rp.)            0\n",
       "Total Shipping Fee (Rp.)      0\n",
       "city                          0\n",
       "e_commerce                    0\n",
       "Category_product              0\n",
       "dtype: int64"
      ]
     },
     "execution_count": 43,
     "metadata": {},
     "output_type": "execute_result"
    }
   ],
   "source": [
    "# sanichek\n",
    "data_analisa.isnull().sum()"
   ]
  },
  {
   "cell_type": "code",
   "execution_count": 44,
   "id": "cd4f7d71",
   "metadata": {},
   "outputs": [
    {
     "data": {
      "text/plain": [
       "array(['J&T Express', 'SiCepat REG', 'GrabExpress Instant', 'Anteraja',\n",
       "       'Reguler\\nSiCepat REG', 'Reguler\\nAnteraja',\n",
       "       'JNE Reguler (Cashless)', 'Reguler\\nJNE Reguler (Cashless)',\n",
       "       'Reguler\\nJ&T Express', 'Instant\\nGrabExpress Instant', 'JNE(OKE)',\n",
       "       'AnterAja(Reguler)', 'SiCepat(Regular Package)', 'SiCepat(HALU)',\n",
       "       'JNE(YES)', 'J&T(Reguler)', 'Gojek(Instant Courier)',\n",
       "       'GrabExpress(Instant)'], dtype=object)"
      ]
     },
     "execution_count": 44,
     "metadata": {},
     "output_type": "execute_result"
    }
   ],
   "source": [
    "# inconsistensi data\n",
    "data_analisa.Courier.unique()"
   ]
  },
  {
   "cell_type": "code",
   "execution_count": 45,
   "id": "9447968a",
   "metadata": {},
   "outputs": [
    {
     "data": {
      "text/plain": [
       "array(['Tangerang Selatan', 'Bogor', 'Surabaya', 'Jakarta Selatan',\n",
       "       'Denpasar', 'Semarang', 'Bengkulu', 'Jakarta Barat',\n",
       "       'Jakarta Utara', 'Gorontalo', 'Jakarta Pusat', 'Tulungagung',\n",
       "       'Palembang', 'Bekasi', 'Sleman', 'Bandung', 'Serang', 'Cimahi',\n",
       "       'Tarakan', 'Batam', 'Tangerang', 'Badung', 'Jakarta barat',\n",
       "       'Jakarta selatan', 'Parigi moutong', 'unknown', 'Mataram', 'Dumai',\n",
       "       'Surakarta', 'Jakarta utara', 'Buleleng', 'Jakarta pusat', 'Pati',\n",
       "       'Tasikmalaya', 'Padang', 'Bangka', 'Cilegon', 'Sidoarjo', 'Depok',\n",
       "       'Gianyar', 'Jakarta timur', 'Malaka', 'Belitung', 'Banda aceh',\n",
       "       'Bintan', 'Landak', 'Kupang', 'Makassar', 'Lebak', 'Sukoharjo',\n",
       "       'Ketapang', 'Ende', 'Tegal', 'Kerinci', 'Malang', 'Belu', 'Medan'],\n",
       "      dtype=object)"
      ]
     },
     "execution_count": 45,
     "metadata": {},
     "output_type": "execute_result"
    }
   ],
   "source": [
    "# inconsistensi data\n",
    "data_analisa.city.unique()"
   ]
  },
  {
   "cell_type": "code",
   "execution_count": 46,
   "id": "b55ea788",
   "metadata": {},
   "outputs": [],
   "source": [
    "# rename inconsistensi data city\n",
    "data_analisa['city'] = data_analisa['city'].replace('Badung', 'Bandung')\n",
    "data_analisa['city'] = data_analisa['city'].replace('Jakarta selatan', 'Jakarta Selatan')\n",
    "data_analisa['city'] = data_analisa['city'].replace('Jakarta barat', 'Jakarta Barat')\n",
    "data_analisa['city'] = data_analisa['city'].replace('Jakarta pusat', 'Jakarta Pusat')\n",
    "data_analisa['city'] = data_analisa['city'].replace('Jakarta utara', 'Jakarta Utara')"
   ]
  },
  {
   "cell_type": "code",
   "execution_count": 47,
   "id": "fdb7d658",
   "metadata": {},
   "outputs": [],
   "source": [
    "# rename inconsistensi data Courier\n",
    "data_analisa['Courier'] = data_analisa['Courier'].replace('Reguler\\nJNE Reguler (Cashless)', 'JNE Reguler (Cashless)')\n",
    "data_analisa['Courier'] = data_analisa['Courier'].replace('Instant\\nGrabExpress Instant', 'GrabExpress(Instant)')\n",
    "data_analisa['Courier'] = data_analisa['Courier'].replace('Gojek(Instant Courier)', 'GrabExpress(Instant)')\n",
    "data_analisa['Courier'] = data_analisa['Courier'].replace('GrabExpress Instant', 'GrabExpress(Instant)')\n",
    "data_analisa['Courier'] = data_analisa['Courier'].replace('Reguler\\nSiCepat REG', 'SiCepat REG')\n",
    "data_analisa['Courier'] = data_analisa['Courier'].replace('SiCepat(Regular Package)', 'SiCepat REG')\n",
    "data_analisa['Courier'] = data_analisa['Courier'].replace('Reguler\\nAnteraja', 'AnterAja(Reguler)')\n",
    "data_analisa['Courier'] = data_analisa['Courier'].replace('JNE Reguler (Cashless)', 'J&T(Reguler)')\n",
    "data_analisa['Courier'] = data_analisa['Courier'].replace('Reguler\\nJ&T Express', 'J&T Express')\n",
    "data_analisa['Courier'] = data_analisa['Courier'].replace('Anteraja', 'AnterAja(Reguler)')"
   ]
  },
  {
   "cell_type": "code",
   "execution_count": 48,
   "id": "05cbccc6",
   "metadata": {},
   "outputs": [
    {
     "data": {
      "text/plain": [
       "array(['J&T Express', 'SiCepat REG', 'GrabExpress(Instant)',\n",
       "       'AnterAja(Reguler)', 'J&T(Reguler)', 'JNE(OKE)', 'SiCepat(HALU)',\n",
       "       'JNE(YES)'], dtype=object)"
      ]
     },
     "execution_count": 48,
     "metadata": {},
     "output_type": "execute_result"
    }
   ],
   "source": [
    "# sanichek unique\n",
    "data_analisa.Courier.unique()"
   ]
  },
  {
   "cell_type": "code",
   "execution_count": 49,
   "id": "4f5864f2",
   "metadata": {},
   "outputs": [],
   "source": [
    "# save data to csv\n",
    "\n",
    "data_analisa.to_excel('data_minilistic.xlsx', index=False)"
   ]
  },
  {
   "cell_type": "markdown",
   "id": "dded4b59",
   "metadata": {},
   "source": [
    "# EDA"
   ]
  },
  {
   "cell_type": "markdown",
   "id": "d0aa4756",
   "metadata": {},
   "source": [
    "Topic >>> Compensation sales amount based on products sold"
   ]
  },
  {
   "cell_type": "code",
   "execution_count": 50,
   "id": "1f2552b2",
   "metadata": {},
   "outputs": [
    {
     "data": {
      "image/png": "[encoded data removed]",
      "text/plain": [
       "<Figure size 640x480 with 1 Axes>"
      ]
     },
     "metadata": {},
     "output_type": "display_data"
    }
   ],
   "source": [
    "# membuat grup berdasarkan e-commerce dan menghitung total pembayaran untuk masing-masing e-commerce\n",
    "compare_sales = data_analisa.groupby([\"e_commerce\"]).agg({\"Total Amount (Rp.)\": \"sum\"}).sort_values(by=\"Total Amount (Rp.)\", ascending=False)\n",
    "\n",
    "# visualization\n",
    "plt.style.use('ggplot')\n",
    "compare_sales.plot(kind=\"bar\", rot=0, legend=False)\n",
    "plt.xlabel(\"E-Commerce\")\n",
    "plt.ylabel(\"Total Pembayaran\")\n",
    "plt.title(\"Pendapatan Tokopedia vs Shopee\", fontsize=12 , c = 'r')\n",
    "for i, value in enumerate(compare_sales.values):\n",
    "    plt.text(i, value[0] + 1, str(value[0]), ha='center', va='bottom', fontweight='bold')\n",
    "plt.show()"
   ]
  },
  {
   "cell_type": "code",
   "execution_count": 51,
   "id": "bf9d6aa7",
   "metadata": {},
   "outputs": [
    {
     "data": {
      "image/png": "[encoded data removed]",
      "text/plain": [
       "<Figure size 640x480 with 1 Axes>"
      ]
     },
     "metadata": {},
     "output_type": "display_data"
    }
   ],
   "source": [
    "# membuat grup berdasarkan tanggal pembayaran dan e-commerce, kemudian menghitung total pembayaran untuk masing-masing tanggal dan e-commerce\n",
    "compare_sales_date = data_analisa.groupby([pd.Grouper(key=\"Payment Date\", freq=\"M\"), \"e_commerce\"]).agg({\"Total Amount (Rp.)\": \"sum\"}).sort_values(by=[\"Payment Date\"], ascending=False)\n",
    "\n",
    "# membuat pivot table\n",
    "pivot_table = compare_sales_date.pivot_table(index=\"Payment Date\", columns=\"e_commerce\", values=\"Total Amount (Rp.)\")\n",
    "\n",
    "# menampilkan visualisasi grafik stackbar\n",
    "ax = pivot_table.plot(kind=\"bar\", stacked=True)\n",
    "ax.set_xlabel(\"Tanggal Pembayaran\")\n",
    "ax.set_ylabel(\"Total Pembayaran\")\n",
    "plt.title(\"Jumlah Penjualan Setiap Bulan Berdasarkan E-commerce\", fontsize=8, c='r')\n",
    "\n",
    "# menampilkan nilai setiap stack bar\n",
    "for container in ax.containers:\n",
    "    ax.bar_label(container, label_type='edge', labels=[f\"{int(v):,}\" if not np.isnan(v) else \"\" for v in container.datavalues])\n",
    "\n",
    "plt.show()"
   ]
  }
 ],
 "metadata": {
  "kernelspec": {
   "display_name": "Python 3 (ipykernel)",
   "language": "python",
   "name": "python3"
  },
  "language_info": {
   "codemirror_mode": {
    "name": "ipython",
    "version": 3
   },
   "file_extension": ".py",
   "mimetype": "text/x-python",
   "name": "python",
   "nbconvert_exporter": "python",
   "pygments_lexer": "ipython3",
   "version": "3.9.13"
  }
 },
 "nbformat": 4,
 "nbformat_minor": 5
}
